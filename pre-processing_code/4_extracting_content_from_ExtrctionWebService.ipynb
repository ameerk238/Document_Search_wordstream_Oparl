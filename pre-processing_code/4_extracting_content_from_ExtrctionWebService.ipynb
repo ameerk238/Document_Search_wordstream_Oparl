{
 "cells": [
  {
   "attachments": {},
   "cell_type": "markdown",
   "metadata": {},
   "source": [
    "# Extracting Data from Download URLs using the ExtractionWebService\n",
    "You can reach the service directly from the intranet (that is e.g.: VPN to DFKI network). Try something like \\\n",
    "\\\n",
    "curl -s -H 'Content-Type: application/json; charset=UTF-8;' 'http://pc-4301.kl.dfki.de:8080/ExtractionWebService/aloeExtractionHandler/getMetadataFromURIAndExtractContent?uri=https%3A%2F%2Fris.kaiserslautern.de/oparl/bodies/0001/downloadfiles/00094421.pdf' \\\n"
   ]
  },
  {
   "cell_type": "code",
   "execution_count": 1,
   "metadata": {},
   "outputs": [
    {
     "name": "stdout",
     "output_type": "stream",
     "text": [
      "{\"m_title\":\"Microsoft Word - Antrag_Modellkommune\",\"m_creator\":\"User\",\"m_resourceContent\":\"\\n \\nHerrn Oberbürgermeister \\nDr. Klaus Weichel \\nWilly-Brandt-Platz 1 \\n67657 Kaiserslautern \\n \\n \\nSehr geehrter Herr Weichel, \\n \\nfür die Stadtratssitzung am 12.06.2023 bitten wir Sie um Aufnahme des Tagesordnungspunktes: \\n \\nSicherheit und Schutz der Konsumenten stärken - Modellkommune zur Abgabe von \\nCannabis werden \\n \\nBeschlussvorschlag: \\nKaiserslautern bewirbt sich als Modellkommune für die geplanten Modellregionen zur \\nkontrollierten und lizenzierten Abgabe von Cannabis. Dazu soll das Gesundheitsreferat \\nentsprechende Vorbereitungen treffen und Informations- und Hilfeangebote im Bereich des \\nKonsums von Cannabis entwickeln, die den Bedarfen und Erwartungen der Bürger*innen \\nentsprechen. Wichtig ist es, Konsument*innen und vor allem auch Jugendliche bestmöglich zu \\nschützen.  \\n \\n \\nBegründung: \\nDer von der Bundesregierung eingeschlagene Weg zur Legalisierung von Cannabis ist richtig: \\nKaiserslautern sollte diesen Weg mitgehen und mit einer eigenen Initiative unterstützen. Der \\nBund macht es sich zur Aufgabe, die staatlich kontrollierte Abgabe von Cannabis an Erwachsene \\nzum Genusszweck in lizenzierten Geschäften einzuführen.  \\n \\nPolizei und Staatsanwaltschaften werden dadurch entlastet, der Anbau von Cannabis kontrolliert \\nund gesundheitlich verträglicher und damit die Bevölkerung besser geschützt. Nahezu die Hälfte \\nder jungen Erwachsenen zwischen 18 und 25 Jahren haben Cannabis schon einmal probiert. \\nEtwas mehr als 8 Prozent der 18- bis 25-Jährigen konsumieren regelmäßig Cannabis. Die \\nLegalisierung entkriminalisiert sie, kann anderen hochgefährlichen und illegalen Konsumformen \\nvorbeugen und dient dem Gesundheitsschutz. Der illegale Drogenhandel wird zurückgedrängt, \\nwas wiederum zu mehr Sicherheit in der Stad beiträgt.     \\n                                                                                                                                                                                                            \\n\\n \\nStefan Glander \\nFraktionsvorsitzender \\n\\nFraktion DIE LINKE/Partei \\nWilly-Brandt-Platz 1 \\n\\n67657 Kaiserslautern \\nTel 0631-365-2401 \\n\\nlinke.fraktion@kaiserslautern.de \\n03. Juni 2023 \\n\\n\\n\",\"m_creationDate\":\"2023-06-04T17:18:32Z\"}"
     ]
    }
   ],
   "source": [
    "! curl -s -H 'Content-Type: application/json; charset=UTF-8;' 'http://pc-4301.kl.dfki.de:8080/ExtractionWebService/aloeExtractionHandler/getMetadataFromURIAndExtractContent?uri=https%3A%2F%2Fris.kaiserslautern.de/oparl/bodies/0001/downloadfiles/00094421.pdf'"
   ]
  },
  {
   "attachments": {},
   "cell_type": "markdown",
   "metadata": {},
   "source": [
    "As you see, you have to URL-encode the link to the pdf. Returned will be something like- \n",
    "\n",
    "\n",
    "**{\"m_title\":\"Microsoft Word - Antrag_Modellkommune\",\"m_creator\":\"User\",\"m_resourceContent\":\"\\n \\nHerrn Oberbürgermeister...\\n\\n\",\"m_creationDate\":\"2023-06-04T17:18:32Z\"}** \\\n",
    "\\\n",
    "This means for you, that you should find the content in field m_resourceContent."
   ]
  },
  {
   "attachments": {},
   "cell_type": "markdown",
   "metadata": {},
   "source": [
    "To replace the download URLs in the \"resultsProtocol\" and \"auxiliaryFile\" fields with their respective contents using the extraction web service, we need to make HTTP requests to the web service for each download URL and retrieve the extracted content. We can use the requests library in Python to make HTTP requests. \\\n",
    "This code will retrieve the content from the extraction web service for each download URL in the \"resultsProtocol\" and \"auxiliaryFile\" fields and store it in the new JSON file under the fields \"results_protocol_content\" and \"auxiliaryfile_content,\" respectively. If the content extraction fails for any URL, an empty string will be stored under the respective content fields."
   ]
  },
  {
   "cell_type": "code",
   "execution_count": null,
   "metadata": {},
   "outputs": [],
   "source": [
    "import json\n",
    "import requests\n",
    "\n",
    "# Load the JSON file containing the data\n",
    "data_path = '/Users/ameerkhan/Downloads/Oparl_Files/finetuned_meeting_location_organisation_participant_files.json'\n",
    "with open(data_path, 'r') as file:\n",
    "    data = json.load(file)\n",
    "\n",
    "# Function to get content from the extraction web service\n",
    "def get_content_from_url(url):\n",
    "    encoded_url = requests.utils.quote(url, safe='')\n",
    "    api_url = f'http://pc-4301.kl.dfki.de:8080/ExtractionWebService/aloeExtractionHandler/getMetadataFromURIAndExtractContent?uri={encoded_url}'\n",
    "    response = requests.get(api_url)\n",
    "    if response.status_code == 200:\n",
    "        content = response.json().get('m_resourceContent', '')\n",
    "        return content\n",
    "    else:\n",
    "        print(f\"Failed to retrieve content for URL: {url}\")\n",
    "        return ''\n",
    "\n",
    "# Function to modify the \"auxiliaryFile\" and \"resultsProtocol\" fields\n",
    "def modify_files(json_data):\n",
    "    for item in json_data:\n",
    "        # Modify \"auxiliaryFile\" field\n",
    "        auxiliary_files = item.get('auxiliaryFile', [])\n",
    "        item['auxiliaryFile'] = []\n",
    "        for file in auxiliary_files:\n",
    "            content = get_content_from_url(file['auxiliaryfile_downloadurl'])\n",
    "            item['auxiliaryFile'].append({\n",
    "                'auxiliaryfile_id': file['auxiliaryfile_id'],\n",
    "                'auxiliaryfile_name': file['auxiliaryfile_name'],\n",
    "                'auxiliaryfile_content': content\n",
    "            })\n",
    "\n",
    "        # Modify \"resultsProtocol\" field\n",
    "        results_protocol = item.get('resultsProtocol', {})\n",
    "        if results_protocol:\n",
    "            content = get_content_from_url(results_protocol['results_protocol_downloadurl'])\n",
    "            item['resultsProtocol'] = {\n",
    "                'results_protocol_id': results_protocol['results_protocol_id'],\n",
    "                'results_protocol_name': results_protocol['results_protocol_name'],\n",
    "                'results_protocol_content': content\n",
    "            }\n",
    "    return json_data\n",
    "\n",
    "# Call the function to modify the \"auxiliaryFile\" and \"resultsProtocol\" fields\n",
    "modified_data = modify_files(data)\n",
    "\n",
    "# Specify the path for the new JSON file\n",
    "new_file_path = '/Users/ameerkhan/Downloads/Oparl_Files/finetuned_meeting_location_organisation_participant_files_downloaded.json'\n",
    "\n",
    "# Save the modified JSON data to the new file\n",
    "with open(new_file_path, 'w') as new_file:\n",
    "    json.dump(modified_data, new_file, indent=2)\n",
    "\n",
    "print(\"New JSON file with modified 'auxiliaryFile' and 'resultsProtocol' fields created.\")\n"
   ]
  },
  {
   "cell_type": "code",
   "execution_count": null,
   "metadata": {},
   "outputs": [],
   "source": []
  },
  {
   "attachments": {},
   "cell_type": "markdown",
   "metadata": {},
   "source": []
  }
 ],
 "metadata": {
  "kernelspec": {
   "display_name": "base",
   "language": "python",
   "name": "python3"
  },
  "language_info": {
   "codemirror_mode": {
    "name": "ipython",
    "version": 3
   },
   "file_extension": ".py",
   "mimetype": "text/x-python",
   "name": "python",
   "nbconvert_exporter": "python",
   "pygments_lexer": "ipython3",
   "version": "3.8.8"
  },
  "orig_nbformat": 4
 },
 "nbformat": 4,
 "nbformat_minor": 2
}
