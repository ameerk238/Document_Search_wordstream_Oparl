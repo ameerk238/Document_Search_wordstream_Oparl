{
 "cells": [
  {
   "attachments": {},
   "cell_type": "markdown",
   "metadata": {},
   "source": [
    "# Converting Data into _bulk API Format"
   ]
  },
  {
   "attachments": {},
   "cell_type": "markdown",
   "metadata": {},
   "source": [
    "You can use the _bulk API to bulk import a large JSON file into Elasticsearch.\n",
    "\n",
    "curl -H 'Content-Type: application/x-ndjson' -XPOST 'localhost:9200/test1/_bulk?pretty' --data-binary @products.json \\\n",
    "The products.json file must be formatted in the following way:\n",
    "\n",
    "{ \"index\" : { \"_index\" : \"products\", \"_id\" : \"1\" } } \\\n",
    "{ \"title\" : \"Nike Running Shoes\" } \\\n",
    "{ \"index\" : { \"_index\" : \"products\", \"_id\" : \"2\" } } \\\n",
    "{ \"title\" : \"Adidas Basketball Shoes\" } \n",
    "\n",
    "Dont forget to add  newline at the end of the last document , i struggled to debug this small mistake for almost 1 week.(dont worry i have covered that in the code too ;) ) "
   ]
  },
  {
   "cell_type": "code",
   "execution_count": null,
   "metadata": {},
   "outputs": [],
   "source": [
    "import json\n",
    "\n",
    "# Replace 'input_file.json' with the name of your original JSON file\n",
    "input_file = '/Users/ameerkhan/Downloads/Oparl_Files/file_with_resultprotocol_elasticsearch.json'\n",
    "bulk_output_file = '/Users/ameerkhan/Downloads/Oparl_Files/file_in_elasticsearch_format.json'\n",
    "\n",
    "with open(input_file, 'r') as f:\n",
    "    data = json.load(f)\n",
    "\n",
    "with open(bulk_output_file, 'w') as f:\n",
    "    for doc in data:\n",
    "        doc_line = json.dumps({\"index\": {\"_index\": \"agendaitem_content\", \"_id\": doc[\"agendaitem_id\"]}})\n",
    "        f.write(doc_line + '\\n')\n",
    "        doc.pop(\"agendaitem_id\")  # Remove the _id field since it's already included in the metadata line\n",
    "        f.write(json.dumps(doc) + '\\n')\n",
    "\n",
    "# Adding a newline at the end of the file\n",
    "with open(bulk_output_file, 'a') as f:\n",
    "    f.write('\\n')"
   ]
  }
 ],
 "metadata": {
  "language_info": {
   "name": "python"
  },
  "orig_nbformat": 4
 },
 "nbformat": 4,
 "nbformat_minor": 2
}
